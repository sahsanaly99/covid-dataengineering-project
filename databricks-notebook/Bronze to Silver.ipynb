{
 "cells": [
  {
   "cell_type": "code",
   "execution_count": 0,
   "metadata": {
    "application/vnd.databricks.v1+cell": {
     "cellMetadata": {
      "byteLimit": 2048000,
      "rowLimit": 10000
     },
     "inputWidgets": {},
     "nuid": "64d9adf1-acd8-432d-aced-9056e7604a62",
     "showTitle": false,
     "tableResultSettingsMap": {},
     "title": ""
    }
   },
   "outputs": [],
   "source": [
    "# Securely configure Spark to access Azure Data Lake Storage Gen2 (ADLS Gen2)\n",
    "# using OAuth 2.0 with Azure Active Directory via service principal credentials.\n",
    "# Secrets like the client secret are retrieved securely from Databricks secret scope.\n",
    "\n",
    "# Set the client secret using Databricks secrets for secure storage\n",
    "spark.conf.set(\"fs.azure.account.oauth2.client.secret.covid2025storage.dfs.core.windows.net\",\n",
    "               dbutils.secrets.get(scope=\"myscope\", key=\"sp-secret\"))\n",
    "\n",
    "# Set the authentication type to OAuth for accessing the storage account\n",
    "spark.conf.set(\"fs.azure.account.auth.type.covid2025storage.dfs.core.windows.net\", \"OAuth\")\n",
    "\n",
    "# Specify the provider class that supports OAuth 2.0 client credentials flow\n",
    "spark.conf.set(\"fs.azure.account.oauth.provider.type.covid2025storage.dfs.core.windows.net\", \n",
    "               \"org.apache.hadoop.fs.azurebfs.oauth2.ClientCredsTokenProvider\")\n",
    "\n",
    "# Set the client ID (application ID) of your Azure AD registered app\n",
    "spark.conf.set(\"fs.azure.account.oauth2.client.id.covid2025storage.dfs.core.windows.net\", \n",
    "               \"af9d0047-d4cd-4d32-81a0-3e2ebeff1343\")\n",
    "               \n",
    "# Define the token endpoint for your Azure tenant to obtain access tokens\n",
    "spark.conf.set(\"fs.azure.account.oauth2.client.endpoint.covid2025storage.dfs.core.windows.net\", \n",
    "               \"https://login.microsoftonline.com/fdae273f-8a49-469c-b9bc-444ce8f28607/oauth2/token\")\n",
    "\n"
   ]
  },
  {
   "cell_type": "code",
   "execution_count": 0,
   "metadata": {
    "application/vnd.databricks.v1+cell": {
     "cellMetadata": {
      "byteLimit": 2048000,
      "rowLimit": 10000
     },
     "inputWidgets": {},
     "nuid": "75d1cff6-da11-4f72-81bc-6aa73098741a",
     "showTitle": false,
     "tableResultSettingsMap": {},
     "title": ""
    }
   },
   "outputs": [],
   "source": [
    "# Import necessary libraries to read and manipulate the notebook\n",
    "df = spark.read.format(\"csv\").option(\"header\", \"true\").option(\"inferSchema\", \"true\").load(\"abfss://bronze@covid2025storage.dfs.core.windows.net/countrywise.csv\")\n"
   ]
  },
  {
   "cell_type": "code",
   "execution_count": 0,
   "metadata": {
    "application/vnd.databricks.v1+cell": {
     "cellMetadata": {
      "byteLimit": 2048000,
      "rowLimit": 10000
     },
     "inputWidgets": {},
     "nuid": "a174ac63-2d37-4ca7-bdae-637e44d004fb",
     "showTitle": false,
     "tableResultSettingsMap": {},
     "title": ""
    }
   },
   "outputs": [],
   "source": [
    "df.show()"
   ]
  },
  {
   "cell_type": "code",
   "execution_count": 0,
   "metadata": {
    "application/vnd.databricks.v1+cell": {
     "cellMetadata": {
      "byteLimit": 2048000,
      "rowLimit": 10000
     },
     "inputWidgets": {},
     "nuid": "43c05bf1-1dfa-4114-9829-b991f0b56b35",
     "showTitle": false,
     "tableResultSettingsMap": {},
     "title": ""
    }
   },
   "outputs": [],
   "source": [
    "print(f\"Row count: {df.count()}\")\n",
    "df.printSchema()"
   ]
  },
  {
   "cell_type": "code",
   "execution_count": 0,
   "metadata": {
    "application/vnd.databricks.v1+cell": {
     "cellMetadata": {
      "byteLimit": 2048000,
      "rowLimit": 10000
     },
     "inputWidgets": {},
     "nuid": "1530533b-35ed-4943-afb8-40299b93ffff",
     "showTitle": false,
     "tableResultSettingsMap": {},
     "title": ""
    }
   },
   "outputs": [],
   "source": [
    "# Create or update a column with transformed data\n",
    "df_silver = df.withColumnRenamed(\"Country/Region\", \"country\") \\\n",
    "       .withColumnRenamed(\"New cases\", \"new_cases\") \\\n",
    "       .withColumnRenamed(\"New deaths\", \"new_deaths\") \\\n",
    "       .withColumnRenamed(\"New recovered\", \"new_recovered\") \\\n",
    "       .withColumnRenamed(\"Deaths / 100 Cases\", \"deaths_per_100_cases\") \\\n",
    "       .withColumnRenamed(\"Recovered / 100 Cases\", \"recovered_per_100_cases\") \\\n",
    "       .withColumnRenamed(\"Deaths / 100 Recovered\", \"deaths_per_100_recovered\") \\\n",
    "       .withColumnRenamed(\"Confirmed last week\", \"confirmed_last_week\") \\\n",
    "       .withColumnRenamed(\"1 week change\", \"one_week_change\") \\\n",
    "       .withColumnRenamed(\"1 week % increase\", \"one_week_percent_increase\") \\\n",
    "       .withColumnRenamed(\"WHO Region\", \"who_region\")"
   ]
  },
  {
   "cell_type": "code",
   "execution_count": 0,
   "metadata": {
    "application/vnd.databricks.v1+cell": {
     "cellMetadata": {
      "byteLimit": 2048000,
      "rowLimit": 10000
     },
     "inputWidgets": {},
     "nuid": "de7c8338-35be-4284-87d2-cac400b028db",
     "showTitle": false,
     "tableResultSettingsMap": {},
     "title": ""
    }
   },
   "outputs": [],
   "source": [
    "# Drop unneccessary columns and save as a new df\n",
    "cols_to_drop = [\"deaths_per_100_cases\", \"recovered_per_100_cases\", \"deaths_per_100_recovered\"]\n",
    "df_silver = df_silver.drop(*cols_to_drop)"
   ]
  },
  {
   "cell_type": "code",
   "execution_count": 0,
   "metadata": {
    "application/vnd.databricks.v1+cell": {
     "cellMetadata": {
      "byteLimit": 2048000,
      "rowLimit": 10000
     },
     "inputWidgets": {},
     "nuid": "815568d7-180a-45af-a938-e5e4a5d29638",
     "showTitle": false,
     "tableResultSettingsMap": {},
     "title": ""
    }
   },
   "outputs": [],
   "source": [
    "df_silver = df_silver.dropna()"
   ]
  },
  {
   "cell_type": "code",
   "execution_count": 0,
   "metadata": {
    "application/vnd.databricks.v1+cell": {
     "cellMetadata": {
      "byteLimit": 2048000,
      "rowLimit": 10000
     },
     "inputWidgets": {},
     "nuid": "58e8c7fd-ea0b-4785-84e0-26e41ce3af37",
     "showTitle": false,
     "tableResultSettingsMap": {},
     "title": ""
    }
   },
   "outputs": [],
   "source": [
    "df_silver.describe()"
   ]
  },
  {
   "cell_type": "code",
   "execution_count": 0,
   "metadata": {
    "application/vnd.databricks.v1+cell": {
     "cellMetadata": {
      "byteLimit": 2048000,
      "rowLimit": 10000
     },
     "inputWidgets": {},
     "nuid": "0171712b-d3d3-4a24-ac35-11a1a27d3421",
     "showTitle": false,
     "tableResultSettingsMap": {},
     "title": ""
    }
   },
   "outputs": [],
   "source": [
    "df_silver.printSchema()"
   ]
  },
  {
   "cell_type": "code",
   "execution_count": 0,
   "metadata": {
    "application/vnd.databricks.v1+cell": {
     "cellMetadata": {
      "byteLimit": 2048000,
      "rowLimit": 10000
     },
     "inputWidgets": {},
     "nuid": "dd329f3b-5ca2-48fe-964b-60d0f838cb42",
     "showTitle": false,
     "tableResultSettingsMap": {},
     "title": ""
    }
   },
   "outputs": [],
   "source": [
    "print(df_silver.show())"
   ]
  },
  {
   "cell_type": "code",
   "execution_count": 0,
   "metadata": {
    "application/vnd.databricks.v1+cell": {
     "cellMetadata": {
      "byteLimit": 2048000,
      "rowLimit": 10000
     },
     "inputWidgets": {},
     "nuid": "f7c417e4-a6bb-4019-8365-5b7c9d4d0772",
     "showTitle": false,
     "tableResultSettingsMap": {},
     "title": ""
    }
   },
   "outputs": [],
   "source": [
    "output_path = f\"abfss://silver@covid2025storage.dfs.core.windows.net/countrywise/\"\n",
    "\n",
    "df_silver.repartition(1).write.mode(\"overwrite\").option(\"header\", \"true\").csv(output_path)\n",
    "\n",
    "display(dbutils.fs.ls(output_path))"
   ]
  },
  {
   "cell_type": "code",
   "execution_count": 0,
   "metadata": {
    "application/vnd.databricks.v1+cell": {
     "cellMetadata": {
      "byteLimit": 2048000,
      "rowLimit": 10000
     },
     "inputWidgets": {},
     "nuid": "a7c268a0-5fc6-4503-8e90-03b3e9484ce3",
     "showTitle": false,
     "tableResultSettingsMap": {},
     "title": ""
    }
   },
   "outputs": [],
   "source": []
  }
 ],
 "metadata": {
  "application/vnd.databricks.v1+notebook": {
   "computePreferences": null,
   "dashboards": [],
   "environmentMetadata": {
    "base_environment": "",
    "environment_version": "2"
   },
   "inputWidgetPreferences": null,
   "language": "python",
   "notebookMetadata": {
    "pythonIndentUnit": 4
   },
   "notebookName": "Bronze to Silver",
   "widgets": {}
  },
  "language_info": {
   "name": "python"
  }
 },
 "nbformat": 4,
 "nbformat_minor": 0
}
